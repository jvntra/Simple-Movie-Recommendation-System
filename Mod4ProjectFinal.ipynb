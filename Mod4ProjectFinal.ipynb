{
 "cells": [
  {
   "cell_type": "code",
   "execution_count": 1,
   "metadata": {},
   "outputs": [],
   "source": [
    "import numpy as np\n",
    "import pandas as pd\n",
    "import matplotlib.pyplot as plt\n",
    "import seaborn as sns\n",
    "import requests # For API requests\n",
    "import json # For API requests\n",
    "import time # To delay API & web scrapping pulls to avoid crashes\n",
    "from tqdm import tqdm #to see progres of loop\n",
    "\n",
    "from scipy.stats import chi2_contingency\n",
    "from scipy.stats import chi2\n",
    "from scipy import stats\n",
    "\n",
    "pd.options.display.max_rows = 4000\n",
    "pd.set_option('display.max_columns', 100)"
   ]
  },
  {
   "cell_type": "markdown",
   "metadata": {},
   "source": [
    "# Importing and Preprocessing"
   ]
  },
  {
   "cell_type": "code",
   "execution_count": 2,
   "metadata": {},
   "outputs": [],
   "source": [
    "# read in the df\n",
    "links = pd.read_csv('./movielens_data/links.csv')\n",
    "movies = pd.read_csv('./movielens_data/movies.csv')\n",
    "ratings = pd.read_csv('./movielens_data/ratings.csv')\n",
    "tags = pd.read_csv('./movielens_data/tags.csv')"
   ]
  },
  {
   "cell_type": "code",
   "execution_count": 41,
   "metadata": {},
   "outputs": [],
   "source": [
    "ratings = ratings.drop('timestamp', axis=1)"
   ]
  },
  {
   "cell_type": "code",
   "execution_count": 42,
   "metadata": {},
   "outputs": [
    {
     "data": {
      "text/plain": [
       "[['Drama', 4361],\n",
       " ['Comedy', 3756],\n",
       " ['Thriller', 1894],\n",
       " ['Action', 1828],\n",
       " ['Romance', 1596]]"
      ]
     },
     "execution_count": 42,
     "metadata": {},
     "output_type": "execute_result"
    }
   ],
   "source": [
    "genre_labels = set()\n",
    "for s in movies['genres'].str.split('|').values:\n",
    "    genre_labels = genre_labels.union(set(s))\n",
    "\n",
    "# Function that counts the number of times each of the genre keywords appear\n",
    "def count_word(dataset, ref_col, census):\n",
    "    keyword_count = dict()\n",
    "    for s in census: \n",
    "        keyword_count[s] = 0\n",
    "    for census_keywords in dataset[ref_col].str.split('|'):        \n",
    "        if type(census_keywords) == float and pd.isnull(census_keywords): \n",
    "            continue        \n",
    "        for s in [s for s in census_keywords if s in census]: \n",
    "            if pd.notnull(s): \n",
    "                keyword_count[s] += 1\n",
    "    #______________________________________________________________________\n",
    "    # convert the dictionary in a list to sort the keywords by frequency\n",
    "    keyword_occurences = []\n",
    "    for k,v in keyword_count.items():\n",
    "        keyword_occurences.append([k,v])\n",
    "    keyword_occurences.sort(key = lambda x:x[1], reverse = True)\n",
    "    return keyword_occurences, keyword_count\n",
    "\n",
    "# Calling this function gives access to a list of genre keywords which are sorted by decreasing frequency\n",
    "keyword_occurences, dum = count_word(movies, 'genres', genre_labels)\n",
    "keyword_occurences[:5]"
   ]
  },
  {
   "cell_type": "code",
   "execution_count": 43,
   "metadata": {},
   "outputs": [],
   "source": [
    "genre_count = pd.DataFrame(keyword_occurences, columns = ['genre', 'count'])\n",
    "genre_count = pd.DataFrame(keyword_occurences, columns = ['genre', 'count'], index = genre_count.genre)"
   ]
  },
  {
   "cell_type": "code",
   "execution_count": 44,
   "metadata": {},
   "outputs": [
    {
     "data": {
      "text/html": [
       "<div>\n",
       "<style scoped>\n",
       "    .dataframe tbody tr th:only-of-type {\n",
       "        vertical-align: middle;\n",
       "    }\n",
       "\n",
       "    .dataframe tbody tr th {\n",
       "        vertical-align: top;\n",
       "    }\n",
       "\n",
       "    .dataframe thead th {\n",
       "        text-align: right;\n",
       "    }\n",
       "</style>\n",
       "<table border=\"1\" class=\"dataframe\">\n",
       "  <thead>\n",
       "    <tr style=\"text-align: right;\">\n",
       "      <th></th>\n",
       "      <th>genre</th>\n",
       "      <th>count</th>\n",
       "    </tr>\n",
       "    <tr>\n",
       "      <th>genre</th>\n",
       "      <th></th>\n",
       "      <th></th>\n",
       "    </tr>\n",
       "  </thead>\n",
       "  <tbody>\n",
       "    <tr>\n",
       "      <td>Drama</td>\n",
       "      <td>Drama</td>\n",
       "      <td>4361</td>\n",
       "    </tr>\n",
       "    <tr>\n",
       "      <td>Comedy</td>\n",
       "      <td>Comedy</td>\n",
       "      <td>3756</td>\n",
       "    </tr>\n",
       "    <tr>\n",
       "      <td>Thriller</td>\n",
       "      <td>Thriller</td>\n",
       "      <td>1894</td>\n",
       "    </tr>\n",
       "    <tr>\n",
       "      <td>Action</td>\n",
       "      <td>Action</td>\n",
       "      <td>1828</td>\n",
       "    </tr>\n",
       "    <tr>\n",
       "      <td>Romance</td>\n",
       "      <td>Romance</td>\n",
       "      <td>1596</td>\n",
       "    </tr>\n",
       "  </tbody>\n",
       "</table>\n",
       "</div>"
      ],
      "text/plain": [
       "             genre  count\n",
       "genre                    \n",
       "Drama        Drama   4361\n",
       "Comedy      Comedy   3756\n",
       "Thriller  Thriller   1894\n",
       "Action      Action   1828\n",
       "Romance    Romance   1596"
      ]
     },
     "execution_count": 44,
     "metadata": {},
     "output_type": "execute_result"
    }
   ],
   "source": [
    "genre_count.head()"
   ]
  },
  {
   "cell_type": "code",
   "execution_count": 45,
   "metadata": {},
   "outputs": [
    {
     "data": {
      "text/plain": [
       "<Figure size 432x288 with 0 Axes>"
      ]
     },
     "metadata": {},
     "output_type": "display_data"
    },
    {
     "data": {
      "image/png": "[encoded data removed]",
      "text/plain": [
       "<Figure size 432x288 with 1 Axes>"
      ]
     },
     "metadata": {},
     "output_type": "display_data"
    }
   ],
   "source": [
    "fig, ax = plt.subplots(0)\n",
    "sns.set_style('darkgrid')\n",
    "ax = genre_count.sort_values(by='count').plot(kind='barh', legend=False, color='#255144')\n",
    "ax.set_ylabel('Genre',fontsize=14)\n",
    "ax.set_xlabel('Count', fontsize=14)\n",
    "ax.set_title('Genre Rating Frequency', fontsize=16)\n",
    "plt.savefig('./movielens_data/genre_rating_freq.png', dpi=200)\n",
    "plt.show()"
   ]
  },
  {
   "cell_type": "markdown",
   "metadata": {},
   "source": [
    "We can see in the visualization above that the genres with most count of ratings are Drama, Comedy, Thriller and Action. Based on this subset of data alone, these counts may just pose a rating selection effect on neighborhood models since most movies are rated in these categories."
   ]
  },
  {
   "cell_type": "code",
   "execution_count": 46,
   "metadata": {},
   "outputs": [],
   "source": [
    "ratings_count = ratings['rating'].value_counts().sort_index(ascending=False)"
   ]
  },
  {
   "cell_type": "code",
   "execution_count": 47,
   "metadata": {
    "scrolled": true
   },
   "outputs": [
    {
     "data": {
      "image/png": "[encoded data removed]",
      "text/plain": [
       "<Figure size 432x288 with 1 Axes>"
      ]
     },
     "metadata": {},
     "output_type": "display_data"
    }
   ],
   "source": [
    "fig, ax = plt.subplots()\n",
    "sns.set_style('darkgrid')\n",
    "ax = ratings_count.plot(kind=\"bar\", color='#e4892e')\n",
    "ax.set_ylabel('Frequency [count]',fontsize=14 )\n",
    "ax.set_xlabel('Ratings', fontsize=14)\n",
    "ax.set_title('Ratings', fontsize=16)\n",
    "plt.savefig('./movielens_data/ratings_freq.png', dpi=200)\n",
    "plt.show()"
   ]
  },
  {
   "cell_type": "markdown",
   "metadata": {},
   "source": [
    "We can see that from the distribution of ratings in this data, the most common rating is a 4.0. This might indicate that most movies in this set are truthfully highly rated or possibly suggest user neutrality around this rating. The interpretation here may also have some effect as far as the a personalized recommendation."
   ]
  },
  {
   "cell_type": "code",
   "execution_count": 48,
   "metadata": {},
   "outputs": [
    {
     "data": {
      "text/plain": [
       "count    100836.000000\n",
       "mean          3.501557\n",
       "std           1.042529\n",
       "min           0.500000\n",
       "25%           3.000000\n",
       "50%           3.500000\n",
       "75%           4.000000\n",
       "max           5.000000\n",
       "Name: rating, dtype: float64"
      ]
     },
     "execution_count": 48,
     "metadata": {},
     "output_type": "execute_result"
    }
   ],
   "source": [
    "ratings.rating.describe()"
   ]
  },
  {
   "cell_type": "code",
   "execution_count": 50,
   "metadata": {},
   "outputs": [],
   "source": [
    "mv_ratings = ratings.merge(movies, on='movieId', how = 'inner')\n",
    "mv_ratings.drop(columns=['title', 'genres'], inplace = True)"
   ]
  },
  {
   "cell_type": "code",
   "execution_count": 51,
   "metadata": {},
   "outputs": [],
   "source": [
    "imdb = links['imdbId'].values.astype(str)"
   ]
  },
  {
   "cell_type": "code",
   "execution_count": 52,
   "metadata": {},
   "outputs": [],
   "source": [
    "def correct_imdb_ids(imdb):  \n",
    "    imdb_ids = []\n",
    "    for ids in imdb:\n",
    "        if len(ids) == 3:\n",
    "            imdb_ids.append('tt0000'+ids)\n",
    "        elif len(ids) == 4:\n",
    "            imdb_ids.append('tt000'+ids)\n",
    "        elif len(ids) == 5:\n",
    "            imdb_ids.append('tt00'+ids)\n",
    "        elif len(ids) == 6:\n",
    "            imdb_ids.append('tt0'+ids)\n",
    "        elif len(ids) == 7:\n",
    "            imdb_ids.append('tt'+ids)   \n",
    "    return imdb_ids    #created function to correct the format of the IMDB ID's (need in order to do correct API pull)"
   ]
  },
  {
   "cell_type": "code",
   "execution_count": 53,
   "metadata": {},
   "outputs": [
    {
     "data": {
      "text/plain": [
       "['tt0114709', 'tt0113497', 'tt0113228', 'tt0114885', 'tt0113041']"
      ]
     },
     "execution_count": 53,
     "metadata": {},
     "output_type": "execute_result"
    }
   ],
   "source": [
    "imdb_ids = correct_imdb_ids(imdb)  #tested function to see if it worked properly\n",
    "imdb_ids[:5]"
   ]
  },
  {
   "cell_type": "code",
   "execution_count": 54,
   "metadata": {},
   "outputs": [
    {
     "data": {
      "text/plain": [
       "9742"
      ]
     },
     "execution_count": 54,
     "metadata": {},
     "output_type": "execute_result"
    }
   ],
   "source": [
    "len(imdb_ids)"
   ]
  },
  {
   "cell_type": "code",
   "execution_count": null,
   "metadata": {
    "collapsed": true
   },
   "outputs": [],
   "source": [
    "# api_key = 'xxxxxxxxx'"
   ]
  },
  {
   "cell_type": "code",
   "execution_count": null,
   "metadata": {
    "collapsed": true
   },
   "outputs": [],
   "source": [
    "# source imdb data for rated movies.\n",
    "#imdb_data = []\n",
    "#for ids in tqdm(imdb_ids):\n",
    "#    request = requests.get('https://api.themoviedb.org/3/movie/' + ids + '?api_key=' + api_key + '&language=en-US')\n",
    "#    time.sleep(.200)\n",
    "#    i = request.json()\n",
    "#    imdb_data.append(i)\n",
    "#print(imdb_data)"
   ]
  },
  {
   "cell_type": "code",
   "execution_count": 19,
   "metadata": {},
   "outputs": [
    {
     "data": {
      "text/html": [
       "<div>\n",
       "<style scoped>\n",
       "    .dataframe tbody tr th:only-of-type {\n",
       "        vertical-align: middle;\n",
       "    }\n",
       "\n",
       "    .dataframe tbody tr th {\n",
       "        vertical-align: top;\n",
       "    }\n",
       "\n",
       "    .dataframe thead th {\n",
       "        text-align: right;\n",
       "    }\n",
       "</style>\n",
       "<table border=\"1\" class=\"dataframe\">\n",
       "  <thead>\n",
       "    <tr style=\"text-align: right;\">\n",
       "      <th></th>\n",
       "      <th>Unnamed: 0</th>\n",
       "      <th>adult</th>\n",
       "      <th>backdrop_path</th>\n",
       "      <th>belongs_to_collection</th>\n",
       "      <th>budget</th>\n",
       "      <th>genres</th>\n",
       "      <th>homepage</th>\n",
       "      <th>id</th>\n",
       "      <th>imdb_id</th>\n",
       "      <th>original_language</th>\n",
       "      <th>original_title</th>\n",
       "      <th>overview</th>\n",
       "      <th>popularity</th>\n",
       "      <th>poster_path</th>\n",
       "      <th>production_companies</th>\n",
       "      <th>production_countries</th>\n",
       "      <th>release_date</th>\n",
       "      <th>revenue</th>\n",
       "      <th>runtime</th>\n",
       "      <th>spoken_languages</th>\n",
       "      <th>status</th>\n",
       "      <th>tagline</th>\n",
       "      <th>title</th>\n",
       "      <th>video</th>\n",
       "      <th>vote_average</th>\n",
       "      <th>vote_count</th>\n",
       "      <th>success</th>\n",
       "      <th>status_code</th>\n",
       "      <th>status_message</th>\n",
       "    </tr>\n",
       "  </thead>\n",
       "  <tbody>\n",
       "    <tr>\n",
       "      <td>0</td>\n",
       "      <td>0</td>\n",
       "      <td>False</td>\n",
       "      <td>/lxD5ak7BOoinRNehOCA85CQ8ubr.jpg</td>\n",
       "      <td>{'id': 10194, 'name': 'Toy Story Collection', ...</td>\n",
       "      <td>30000000.0</td>\n",
       "      <td>[{'id': 16, 'name': 'Animation'}, {'id': 35, '...</td>\n",
       "      <td>http://toystory.disney.com/toy-story</td>\n",
       "      <td>862.0</td>\n",
       "      <td>tt0114709</td>\n",
       "      <td>en</td>\n",
       "      <td>Toy Story</td>\n",
       "      <td>Led by Woody, Andy's toys live happily in his ...</td>\n",
       "      <td>59.243</td>\n",
       "      <td>/uXDfjJbdP4ijW5hWSBrPrlKpxab.jpg</td>\n",
       "      <td>[{'id': 3, 'logo_path': '/1TjvGVDMYsj6JBxOAkUH...</td>\n",
       "      <td>[{'iso_3166_1': 'US', 'name': 'United States o...</td>\n",
       "      <td>1995-10-30</td>\n",
       "      <td>373554033.0</td>\n",
       "      <td>81.0</td>\n",
       "      <td>[{'iso_639_1': 'en', 'name': 'English'}]</td>\n",
       "      <td>Released</td>\n",
       "      <td>NaN</td>\n",
       "      <td>Toy Story</td>\n",
       "      <td>False</td>\n",
       "      <td>7.9</td>\n",
       "      <td>12892.0</td>\n",
       "      <td>NaN</td>\n",
       "      <td>NaN</td>\n",
       "      <td>NaN</td>\n",
       "    </tr>\n",
       "    <tr>\n",
       "      <td>1</td>\n",
       "      <td>1</td>\n",
       "      <td>False</td>\n",
       "      <td>/y7SQmjlB42VvYyRIFQXLQ4ZYrn.jpg</td>\n",
       "      <td>{'id': 495527, 'name': 'Jumanji Collection', '...</td>\n",
       "      <td>65000000.0</td>\n",
       "      <td>[{'id': 12, 'name': 'Adventure'}, {'id': 14, '...</td>\n",
       "      <td>http://www.sonypictures.com/movies/jumanji/</td>\n",
       "      <td>8844.0</td>\n",
       "      <td>tt0113497</td>\n",
       "      <td>en</td>\n",
       "      <td>Jumanji</td>\n",
       "      <td>When siblings Judy and Peter discover an encha...</td>\n",
       "      <td>10.067</td>\n",
       "      <td>/bdHG5Mo83VPobeZZdlSz0Y7HQHB.jpg</td>\n",
       "      <td>[{'id': 559, 'logo_path': '/eC0bWHVjnjUducyA6Y...</td>\n",
       "      <td>[{'iso_3166_1': 'US', 'name': 'United States o...</td>\n",
       "      <td>1995-12-15</td>\n",
       "      <td>262797249.0</td>\n",
       "      <td>104.0</td>\n",
       "      <td>[{'iso_639_1': 'en', 'name': 'English'}, {'iso...</td>\n",
       "      <td>Released</td>\n",
       "      <td>Roll the dice and unleash the excitement!</td>\n",
       "      <td>Jumanji</td>\n",
       "      <td>False</td>\n",
       "      <td>7.2</td>\n",
       "      <td>7534.0</td>\n",
       "      <td>NaN</td>\n",
       "      <td>NaN</td>\n",
       "      <td>NaN</td>\n",
       "    </tr>\n",
       "    <tr>\n",
       "      <td>2</td>\n",
       "      <td>2</td>\n",
       "      <td>False</td>\n",
       "      <td>/1J4Z7VhdAgtdd97nCxY7dcBpjGT.jpg</td>\n",
       "      <td>{'id': 119050, 'name': 'Grumpy Old Men Collect...</td>\n",
       "      <td>0.0</td>\n",
       "      <td>[{'id': 10749, 'name': 'Romance'}, {'id': 35, ...</td>\n",
       "      <td>NaN</td>\n",
       "      <td>15602.0</td>\n",
       "      <td>tt0113228</td>\n",
       "      <td>en</td>\n",
       "      <td>Grumpier Old Men</td>\n",
       "      <td>A family wedding reignites the ancient feud be...</td>\n",
       "      <td>11.425</td>\n",
       "      <td>/1FSXpj5e8l4KH6nVFO5SPUeraOt.jpg</td>\n",
       "      <td>[{'id': 19464, 'logo_path': None, 'name': 'Lan...</td>\n",
       "      <td>[{'iso_3166_1': 'US', 'name': 'United States o...</td>\n",
       "      <td>1995-12-22</td>\n",
       "      <td>0.0</td>\n",
       "      <td>101.0</td>\n",
       "      <td>[{'iso_639_1': 'en', 'name': 'English'}]</td>\n",
       "      <td>Released</td>\n",
       "      <td>Still Yelling. Still Fighting. Still Ready for...</td>\n",
       "      <td>Grumpier Old Men</td>\n",
       "      <td>False</td>\n",
       "      <td>6.6</td>\n",
       "      <td>208.0</td>\n",
       "      <td>NaN</td>\n",
       "      <td>NaN</td>\n",
       "      <td>NaN</td>\n",
       "    </tr>\n",
       "    <tr>\n",
       "      <td>3</td>\n",
       "      <td>3</td>\n",
       "      <td>False</td>\n",
       "      <td>/yibpm3qFap62p92GL2mP71cevS9.jpg</td>\n",
       "      <td>NaN</td>\n",
       "      <td>16000000.0</td>\n",
       "      <td>[{'id': 35, 'name': 'Comedy'}, {'id': 18, 'nam...</td>\n",
       "      <td>NaN</td>\n",
       "      <td>31357.0</td>\n",
       "      <td>tt0114885</td>\n",
       "      <td>en</td>\n",
       "      <td>Waiting to Exhale</td>\n",
       "      <td>Cheated on, mistreated and stepped on, the wom...</td>\n",
       "      <td>7.669</td>\n",
       "      <td>/4wjGMwPsdlvi025ZqR4rXnFDvBz.jpg</td>\n",
       "      <td>[{'id': 25, 'logo_path': '/qZCc1lty5FzX30aOCVR...</td>\n",
       "      <td>[{'iso_3166_1': 'US', 'name': 'United States o...</td>\n",
       "      <td>1995-12-22</td>\n",
       "      <td>81452156.0</td>\n",
       "      <td>127.0</td>\n",
       "      <td>[{'iso_639_1': 'en', 'name': 'English'}]</td>\n",
       "      <td>Released</td>\n",
       "      <td>Friends are the people who let you be yourself...</td>\n",
       "      <td>Waiting to Exhale</td>\n",
       "      <td>False</td>\n",
       "      <td>6.2</td>\n",
       "      <td>78.0</td>\n",
       "      <td>NaN</td>\n",
       "      <td>NaN</td>\n",
       "      <td>NaN</td>\n",
       "    </tr>\n",
       "    <tr>\n",
       "      <td>4</td>\n",
       "      <td>4</td>\n",
       "      <td>False</td>\n",
       "      <td>/wKQlgHjJwh5mGBZ37vDsXBx9zbh.jpg</td>\n",
       "      <td>{'id': 96871, 'name': 'Father of the Bride Col...</td>\n",
       "      <td>0.0</td>\n",
       "      <td>[{'id': 35, 'name': 'Comedy'}]</td>\n",
       "      <td>NaN</td>\n",
       "      <td>11862.0</td>\n",
       "      <td>tt0113041</td>\n",
       "      <td>en</td>\n",
       "      <td>Father of the Bride Part II</td>\n",
       "      <td>Just when George Banks has recovered from his ...</td>\n",
       "      <td>13.231</td>\n",
       "      <td>/lf9RTErt8BSLQy98aSFblElvsCQ.jpg</td>\n",
       "      <td>[{'id': 9195, 'logo_path': '/ou5BUbtulr6tIt699...</td>\n",
       "      <td>[{'iso_3166_1': 'US', 'name': 'United States o...</td>\n",
       "      <td>1995-12-08</td>\n",
       "      <td>76578911.0</td>\n",
       "      <td>106.0</td>\n",
       "      <td>[{'iso_639_1': 'en', 'name': 'English'}, {'iso...</td>\n",
       "      <td>Released</td>\n",
       "      <td>Just When His World Is Back To Normal... He's ...</td>\n",
       "      <td>Father of the Bride Part II</td>\n",
       "      <td>False</td>\n",
       "      <td>6.2</td>\n",
       "      <td>431.0</td>\n",
       "      <td>NaN</td>\n",
       "      <td>NaN</td>\n",
       "      <td>NaN</td>\n",
       "    </tr>\n",
       "  </tbody>\n",
       "</table>\n",
       "</div>"
      ],
      "text/plain": [
       "   Unnamed: 0  adult                     backdrop_path  \\\n",
       "0           0  False  /lxD5ak7BOoinRNehOCA85CQ8ubr.jpg   \n",
       "1           1  False   /y7SQmjlB42VvYyRIFQXLQ4ZYrn.jpg   \n",
       "2           2  False  /1J4Z7VhdAgtdd97nCxY7dcBpjGT.jpg   \n",
       "3           3  False  /yibpm3qFap62p92GL2mP71cevS9.jpg   \n",
       "4           4  False  /wKQlgHjJwh5mGBZ37vDsXBx9zbh.jpg   \n",
       "\n",
       "                               belongs_to_collection      budget  \\\n",
       "0  {'id': 10194, 'name': 'Toy Story Collection', ...  30000000.0   \n",
       "1  {'id': 495527, 'name': 'Jumanji Collection', '...  65000000.0   \n",
       "2  {'id': 119050, 'name': 'Grumpy Old Men Collect...         0.0   \n",
       "3                                                NaN  16000000.0   \n",
       "4  {'id': 96871, 'name': 'Father of the Bride Col...         0.0   \n",
       "\n",
       "                                              genres  \\\n",
       "0  [{'id': 16, 'name': 'Animation'}, {'id': 35, '...   \n",
       "1  [{'id': 12, 'name': 'Adventure'}, {'id': 14, '...   \n",
       "2  [{'id': 10749, 'name': 'Romance'}, {'id': 35, ...   \n",
       "3  [{'id': 35, 'name': 'Comedy'}, {'id': 18, 'nam...   \n",
       "4                     [{'id': 35, 'name': 'Comedy'}]   \n",
       "\n",
       "                                      homepage       id    imdb_id  \\\n",
       "0         http://toystory.disney.com/toy-story    862.0  tt0114709   \n",
       "1  http://www.sonypictures.com/movies/jumanji/   8844.0  tt0113497   \n",
       "2                                          NaN  15602.0  tt0113228   \n",
       "3                                          NaN  31357.0  tt0114885   \n",
       "4                                          NaN  11862.0  tt0113041   \n",
       "\n",
       "  original_language               original_title  \\\n",
       "0                en                    Toy Story   \n",
       "1                en                      Jumanji   \n",
       "2                en             Grumpier Old Men   \n",
       "3                en            Waiting to Exhale   \n",
       "4                en  Father of the Bride Part II   \n",
       "\n",
       "                                            overview  popularity  \\\n",
       "0  Led by Woody, Andy's toys live happily in his ...      59.243   \n",
       "1  When siblings Judy and Peter discover an encha...      10.067   \n",
       "2  A family wedding reignites the ancient feud be...      11.425   \n",
       "3  Cheated on, mistreated and stepped on, the wom...       7.669   \n",
       "4  Just when George Banks has recovered from his ...      13.231   \n",
       "\n",
       "                        poster_path  \\\n",
       "0  /uXDfjJbdP4ijW5hWSBrPrlKpxab.jpg   \n",
       "1  /bdHG5Mo83VPobeZZdlSz0Y7HQHB.jpg   \n",
       "2  /1FSXpj5e8l4KH6nVFO5SPUeraOt.jpg   \n",
       "3  /4wjGMwPsdlvi025ZqR4rXnFDvBz.jpg   \n",
       "4  /lf9RTErt8BSLQy98aSFblElvsCQ.jpg   \n",
       "\n",
       "                                production_companies  \\\n",
       "0  [{'id': 3, 'logo_path': '/1TjvGVDMYsj6JBxOAkUH...   \n",
       "1  [{'id': 559, 'logo_path': '/eC0bWHVjnjUducyA6Y...   \n",
       "2  [{'id': 19464, 'logo_path': None, 'name': 'Lan...   \n",
       "3  [{'id': 25, 'logo_path': '/qZCc1lty5FzX30aOCVR...   \n",
       "4  [{'id': 9195, 'logo_path': '/ou5BUbtulr6tIt699...   \n",
       "\n",
       "                                production_countries release_date  \\\n",
       "0  [{'iso_3166_1': 'US', 'name': 'United States o...   1995-10-30   \n",
       "1  [{'iso_3166_1': 'US', 'name': 'United States o...   1995-12-15   \n",
       "2  [{'iso_3166_1': 'US', 'name': 'United States o...   1995-12-22   \n",
       "3  [{'iso_3166_1': 'US', 'name': 'United States o...   1995-12-22   \n",
       "4  [{'iso_3166_1': 'US', 'name': 'United States o...   1995-12-08   \n",
       "\n",
       "       revenue  runtime                                   spoken_languages  \\\n",
       "0  373554033.0     81.0           [{'iso_639_1': 'en', 'name': 'English'}]   \n",
       "1  262797249.0    104.0  [{'iso_639_1': 'en', 'name': 'English'}, {'iso...   \n",
       "2          0.0    101.0           [{'iso_639_1': 'en', 'name': 'English'}]   \n",
       "3   81452156.0    127.0           [{'iso_639_1': 'en', 'name': 'English'}]   \n",
       "4   76578911.0    106.0  [{'iso_639_1': 'en', 'name': 'English'}, {'iso...   \n",
       "\n",
       "     status                                            tagline  \\\n",
       "0  Released                                                NaN   \n",
       "1  Released          Roll the dice and unleash the excitement!   \n",
       "2  Released  Still Yelling. Still Fighting. Still Ready for...   \n",
       "3  Released  Friends are the people who let you be yourself...   \n",
       "4  Released  Just When His World Is Back To Normal... He's ...   \n",
       "\n",
       "                         title  video  vote_average  vote_count success  \\\n",
       "0                    Toy Story  False           7.9     12892.0     NaN   \n",
       "1                      Jumanji  False           7.2      7534.0     NaN   \n",
       "2             Grumpier Old Men  False           6.6       208.0     NaN   \n",
       "3            Waiting to Exhale  False           6.2        78.0     NaN   \n",
       "4  Father of the Bride Part II  False           6.2       431.0     NaN   \n",
       "\n",
       "   status_code status_message  \n",
       "0          NaN            NaN  \n",
       "1          NaN            NaN  \n",
       "2          NaN            NaN  \n",
       "3          NaN            NaN  \n",
       "4          NaN            NaN  "
      ]
     },
     "execution_count": 19,
     "metadata": {},
     "output_type": "execute_result"
    }
   ],
   "source": [
    "total_mdb = pd.read_csv('./movielens_data/total_mdb.csv')\n",
    "total_mdb.head()"
   ]
  },
  {
   "cell_type": "code",
   "execution_count": 55,
   "metadata": {},
   "outputs": [],
   "source": [
    "# merge movies and links data\n",
    "links['imdb_id'] = imdb_ids"
   ]
  },
  {
   "cell_type": "code",
   "execution_count": 57,
   "metadata": {},
   "outputs": [],
   "source": [
    "mv_ratings = ratings.merge(movies, on = 'movieId', how ='inner')  #merging the movie and rating Data Frames\n",
    "mv_ratings.drop(columns=['genres'], inplace = True)"
   ]
  },
  {
   "cell_type": "code",
   "execution_count": 60,
   "metadata": {},
   "outputs": [],
   "source": [
    "mv_ratings.head();"
   ]
  },
  {
   "cell_type": "code",
   "execution_count": 61,
   "metadata": {},
   "outputs": [
    {
     "data": {
      "text/html": [
       "<div>\n",
       "<style scoped>\n",
       "    .dataframe tbody tr th:only-of-type {\n",
       "        vertical-align: middle;\n",
       "    }\n",
       "\n",
       "    .dataframe tbody tr th {\n",
       "        vertical-align: top;\n",
       "    }\n",
       "\n",
       "    .dataframe thead th {\n",
       "        text-align: right;\n",
       "    }\n",
       "</style>\n",
       "<table border=\"1\" class=\"dataframe\">\n",
       "  <thead>\n",
       "    <tr style=\"text-align: right;\">\n",
       "      <th></th>\n",
       "      <th>userId</th>\n",
       "      <th>movieId</th>\n",
       "      <th>rating</th>\n",
       "      <th>title</th>\n",
       "      <th>imdb_id</th>\n",
       "    </tr>\n",
       "  </thead>\n",
       "  <tbody>\n",
       "    <tr>\n",
       "      <td>0</td>\n",
       "      <td>1</td>\n",
       "      <td>1</td>\n",
       "      <td>4.0</td>\n",
       "      <td>Toy Story (1995)</td>\n",
       "      <td>tt0114709</td>\n",
       "    </tr>\n",
       "    <tr>\n",
       "      <td>1</td>\n",
       "      <td>5</td>\n",
       "      <td>1</td>\n",
       "      <td>4.0</td>\n",
       "      <td>Toy Story (1995)</td>\n",
       "      <td>tt0114709</td>\n",
       "    </tr>\n",
       "    <tr>\n",
       "      <td>2</td>\n",
       "      <td>7</td>\n",
       "      <td>1</td>\n",
       "      <td>4.5</td>\n",
       "      <td>Toy Story (1995)</td>\n",
       "      <td>tt0114709</td>\n",
       "    </tr>\n",
       "    <tr>\n",
       "      <td>3</td>\n",
       "      <td>15</td>\n",
       "      <td>1</td>\n",
       "      <td>2.5</td>\n",
       "      <td>Toy Story (1995)</td>\n",
       "      <td>tt0114709</td>\n",
       "    </tr>\n",
       "    <tr>\n",
       "      <td>4</td>\n",
       "      <td>17</td>\n",
       "      <td>1</td>\n",
       "      <td>4.5</td>\n",
       "      <td>Toy Story (1995)</td>\n",
       "      <td>tt0114709</td>\n",
       "    </tr>\n",
       "  </tbody>\n",
       "</table>\n",
       "</div>"
      ],
      "text/plain": [
       "   userId  movieId  rating             title    imdb_id\n",
       "0       1        1     4.0  Toy Story (1995)  tt0114709\n",
       "1       5        1     4.0  Toy Story (1995)  tt0114709\n",
       "2       7        1     4.5  Toy Story (1995)  tt0114709\n",
       "3      15        1     2.5  Toy Story (1995)  tt0114709\n",
       "4      17        1     4.5  Toy Story (1995)  tt0114709"
      ]
     },
     "execution_count": 61,
     "metadata": {},
     "output_type": "execute_result"
    }
   ],
   "source": [
    "# now merge imdb link list with mv_ratings df\n",
    "links_mv_df = mv_ratings.merge(links, on = 'movieId', how ='inner') \n",
    "links_mv_df.drop(columns=['tmdbId','imdbId'], inplace = True)\n",
    "links_mv_df.head()"
   ]
  },
  {
   "cell_type": "code",
   "execution_count": 62,
   "metadata": {},
   "outputs": [],
   "source": [
    "#now final merge with API data -> merge API data with rating data on IMDB ID\n",
    "complete_df = links_mv_df.merge(total_mdb, on = 'imdb_id', how ='inner')  \n",
    "\n",
    "#drop extraneous columns\n",
    "complete_df.drop(columns=['homepage','tagline','backdrop_path','belongs_to_collection', 'original_language','vote_count','status_message',\n",
    "               'poster_path','adult','id','original_title', 'production_companies', 'production_countries','status_code',\n",
    "               'overview','spoken_languages','status','title_y','video','vote_average','success'], inplace = True)"
   ]
  },
  {
   "cell_type": "code",
   "execution_count": 63,
   "metadata": {},
   "outputs": [],
   "source": [
    "# verify new df\n",
    "complete_df.head();"
   ]
  },
  {
   "cell_type": "code",
   "execution_count": 64,
   "metadata": {},
   "outputs": [
    {
     "data": {
      "text/plain": [
       "userId            int64\n",
       "movieId           int64\n",
       "rating          float64\n",
       "title_x          object\n",
       "imdb_id          object\n",
       "Unnamed: 0        int64\n",
       "budget          float64\n",
       "genres           object\n",
       "popularity      float64\n",
       "release_date     object\n",
       "revenue         float64\n",
       "runtime         float64\n",
       "dtype: object"
      ]
     },
     "execution_count": 64,
     "metadata": {},
     "output_type": "execute_result"
    }
   ],
   "source": [
    "# verify dtypes in complete df\n",
    "complete_df.dtypes"
   ]
  },
  {
   "cell_type": "markdown",
   "metadata": {},
   "source": [
    "### Hypothesis Testing\n",
    "\n",
    "Because this recommendation system is issuing predictions based on predicted ratings, it seemed pertinent to explore the relationship between ratings issued  and other factors in order to contextualize the recommender."
   ]
  },
  {
   "cell_type": "code",
   "execution_count": 65,
   "metadata": {},
   "outputs": [
    {
     "data": {
      "text/plain": [
       "F_onewayResult(statistic=67.35532859388148, pvalue=2.38160455615462e-124)"
      ]
     },
     "execution_count": 65,
     "metadata": {},
     "output_type": "execute_result"
    }
   ],
   "source": [
    "stats.f_oneway(complete_df['budget'][complete_df['rating'] == 0.5],\n",
    "               complete_df['budget'][complete_df['rating'] == 1.0],\n",
    "               complete_df['budget'][complete_df['rating'] == 1.5],\n",
    "               complete_df['budget'][complete_df['rating'] == 2.0],\n",
    "               complete_df['budget'][complete_df['rating'] == 2.5],\n",
    "               complete_df['budget'][complete_df['rating'] == 3.0],\n",
    "               complete_df['budget'][complete_df['rating'] == 3.5],\n",
    "               complete_df['budget'][complete_df['rating'] == 4.0],\n",
    "               complete_df['budget'][complete_df['rating'] == 4.5],\n",
    "               complete_df['budget'][complete_df['rating'] == 5.0])"
   ]
  },
  {
   "cell_type": "markdown",
   "metadata": {},
   "source": [
    "H_0: There is no statistically significant difference between the budget of a movie and its movie rating.\n",
    "\n",
    "H_A: There is not a statistically significant difference between the budget of a movie and its movie rating\n",
    "\n",
    "Result:\n",
    "\n",
    "**p << alpha=0.05 : we reject the null hypothesis and conclude there is a statistically significant difference between ratings across production budgets**"
   ]
  },
  {
   "cell_type": "code",
   "execution_count": 66,
   "metadata": {},
   "outputs": [
    {
     "data": {
      "image/png": "[encoded data removed]",
      "text/plain": [
       "<Figure size 1080x720 with 1 Axes>"
      ]
     },
     "metadata": {},
     "output_type": "display_data"
    }
   ],
   "source": [
    "x = complete_df.groupby('rating')['budget'].median().sort_values(ascending = False).keys()\n",
    "y = complete_df.groupby('rating')['budget'].median().sort_values(ascending = False).values\n",
    "sns.set_style('darkgrid')\n",
    "fig,ax=plt.subplots(figsize=(15,10))\n",
    "\n",
    "sns.barplot(x, y, order = complete_df.groupby('rating')['budget'].median().sort_values(ascending = False).keys(),\n",
    "           color = '#c33d1d')\n",
    "ax.set_xlabel('Movie Rating',fontweight='bold', fontsize=(15))\n",
    "ax.set_ylabel('Budget ($) Tens of Million', fontweight='bold', fontsize=(15))\n",
    "ax.set_title('Average Budget by Movie Rating', fontweight='bold', fontsize=(20))\n",
    "plt.savefig('./movielens_data/avg_budget_mv_rating.png',dpi=200)"
   ]
  },
  {
   "cell_type": "code",
   "execution_count": 67,
   "metadata": {},
   "outputs": [
    {
     "data": {
      "text/plain": [
       "F_onewayResult(statistic=251.89013726558713, pvalue=0.0)"
      ]
     },
     "execution_count": 67,
     "metadata": {},
     "output_type": "execute_result"
    }
   ],
   "source": [
    "stats.f_oneway(complete_df['runtime'][complete_df['rating'] == 0.5],\n",
    "               complete_df['runtime'][complete_df['rating'] == 1.0],\n",
    "               complete_df['runtime'][complete_df['rating'] == 1.5],\n",
    "               complete_df['runtime'][complete_df['rating'] == 2.0],\n",
    "               complete_df['runtime'][complete_df['rating'] == 2.5],\n",
    "               complete_df['runtime'][complete_df['rating'] == 3.0],\n",
    "               complete_df['runtime'][complete_df['rating'] == 3.5],\n",
    "               complete_df['runtime'][complete_df['rating'] == 4.0],\n",
    "               complete_df['runtime'][complete_df['rating'] == 4.5],\n",
    "               complete_df['runtime'][complete_df['rating'] == 5.0])"
   ]
  },
  {
   "cell_type": "code",
   "execution_count": 68,
   "metadata": {},
   "outputs": [
    {
     "data": {
      "image/png": "[encoded data removed]",
      "text/plain": [
       "<Figure size 1080x720 with 1 Axes>"
      ]
     },
     "metadata": {},
     "output_type": "display_data"
    }
   ],
   "source": [
    "x = complete_df.groupby('rating')['runtime'].mean().sort_values(ascending = False).keys()\n",
    "y = complete_df.groupby('rating')['runtime'].mean().sort_values(ascending = False).values\n",
    "sns.set_style('darkgrid')\n",
    "fig,ax=plt.subplots(figsize=(15,10))\n",
    "\n",
    "sns.barplot(x, y, order = complete_df.groupby('rating')['budget'].median().sort_values(ascending = False).keys(),\n",
    "           color = '#255144')\n",
    "ax.set_xlabel('Movie Rating',fontweight='bold', fontsize=(15))\n",
    "ax.set_ylabel('Runtime [minutes]', fontweight='bold', fontsize=(15))\n",
    "ax.set_title('Average runtime by Movie Rating', fontweight='bold', fontsize=(20))\n",
    "plt.savefig('./movielens_data/avg_runtime_mv_rating.png',dpi=200)"
   ]
  },
  {
   "cell_type": "markdown",
   "metadata": {},
   "source": [
    "____________________________________"
   ]
  },
  {
   "cell_type": "markdown",
   "metadata": {},
   "source": [
    "## Building the Models"
   ]
  },
  {
   "cell_type": "markdown",
   "metadata": {},
   "source": [
    "We chose to use two models to address two approaches in collaborative filtering recommendation engines. These models are KNN which is a Neigborhood-Based method of filtering (making automatic predictions) and SVD which is a model based method. \n",
    "\n",
    "**KNN:** \n",
    "    KNN is a machine learning algorithm to find clusters of similar users (neighbors) based on common movie ratings, and make predictions using the average rating of top-k nearest neighbors. It uses the weighted-average of the k-most similar neighbors to issue a predicted rating.\n",
    "\n",
    "**SVD:** \n",
    "    SVD is another machine learning algorithm that tries to explain complex relationships between variables in a dataset by decomposing the dataset or matrix and centering on latent relationships much like PCA.\n",
    "    It is found to be the most accurate approach to reduce problems with sparsity in the data as all users do not rate all movies leading to sparsity in the data. Another useful feature is that SVDs create embeddings (analogous to principle component loadings) which are low-dimensional hidden factors which for a certain user and item coupling can represent exogenous features of the data like how political a movie is, how much special effects it contained and perhaps how dialogue driven the movie is.\n",
    "    \n",
    "    \n",
    "**Evaluation Metrics:**\n",
    "\n",
    "   For our chosen models we primarily focused on RMSE as an evaluation metric since we want to evaluate how good our model predicts ratings a given user and movie. A lower RMSE is indicative of improved performance across model runs.\n",
    "\n",
    "We focus on RMSE over MAE as our evaluation metric because RMSE penalizes larger errors more than MAE. They are both indifferent to the direction of errors and they are negatively oriented which means lower scores are better.\n",
    "\n",
    "**A note on our Iterative Process:**\n",
    "\n",
    "We employed an iterative process with both the KNN and SVD models. For KNN we tried several variations of the KNN algorithm using both cosine and pearsos correlation similiarities and tracked the RMSE for improvement across all variations of the KNN. We followed the same process with SVD where we used a gridserach to test the RMSE optimization on various hyperparameters.\n",
    "\n",
    "**KNN vs SVD:**\n",
    "\n",
    "| KNN                                 | SVD                                                  |\n",
    "|-------------------------------------|------------------------------------------------------|\n",
    "| Complete input data is required     |Creates an abstraction that represents data (like PCs)|\n",
    "| Does not scale well                 |Scales well|\n",
    "| Pre-computation not possible        |pre-computation possible|\n",
    "|Relies on user-itemsimilarity metrics|Relies on matrix factorization|"
   ]
  },
  {
   "cell_type": "code",
   "execution_count": 69,
   "metadata": {},
   "outputs": [],
   "source": [
    "from surprise import Reader, Dataset\n",
    "from surprise.prediction_algorithms import KNNWithMeans, KNNBasic, KNNBaseline\n",
    "from surprise.prediction_algorithms import SVD\n",
    "from surprise.model_selection import GridSearchCV\n",
    "from surprise.model_selection import cross_validate\n",
    "from surprise import BaselineOnly\n",
    "from surprise.model_selection import train_test_split\n",
    "from surprise import accuracy"
   ]
  },
  {
   "cell_type": "code",
   "execution_count": 70,
   "metadata": {},
   "outputs": [
    {
     "data": {
      "text/html": [
       "<div>\n",
       "<style scoped>\n",
       "    .dataframe tbody tr th:only-of-type {\n",
       "        vertical-align: middle;\n",
       "    }\n",
       "\n",
       "    .dataframe tbody tr th {\n",
       "        vertical-align: top;\n",
       "    }\n",
       "\n",
       "    .dataframe thead th {\n",
       "        text-align: right;\n",
       "    }\n",
       "</style>\n",
       "<table border=\"1\" class=\"dataframe\">\n",
       "  <thead>\n",
       "    <tr style=\"text-align: right;\">\n",
       "      <th></th>\n",
       "      <th>userId</th>\n",
       "      <th>movieId</th>\n",
       "      <th>rating</th>\n",
       "    </tr>\n",
       "  </thead>\n",
       "  <tbody>\n",
       "    <tr>\n",
       "      <td>0</td>\n",
       "      <td>1</td>\n",
       "      <td>1</td>\n",
       "      <td>4.0</td>\n",
       "    </tr>\n",
       "    <tr>\n",
       "      <td>1</td>\n",
       "      <td>1</td>\n",
       "      <td>3</td>\n",
       "      <td>4.0</td>\n",
       "    </tr>\n",
       "    <tr>\n",
       "      <td>2</td>\n",
       "      <td>1</td>\n",
       "      <td>6</td>\n",
       "      <td>4.0</td>\n",
       "    </tr>\n",
       "    <tr>\n",
       "      <td>3</td>\n",
       "      <td>1</td>\n",
       "      <td>47</td>\n",
       "      <td>5.0</td>\n",
       "    </tr>\n",
       "    <tr>\n",
       "      <td>4</td>\n",
       "      <td>1</td>\n",
       "      <td>50</td>\n",
       "      <td>5.0</td>\n",
       "    </tr>\n",
       "    <tr>\n",
       "      <td>...</td>\n",
       "      <td>...</td>\n",
       "      <td>...</td>\n",
       "      <td>...</td>\n",
       "    </tr>\n",
       "    <tr>\n",
       "      <td>100831</td>\n",
       "      <td>610</td>\n",
       "      <td>166534</td>\n",
       "      <td>4.0</td>\n",
       "    </tr>\n",
       "    <tr>\n",
       "      <td>100832</td>\n",
       "      <td>610</td>\n",
       "      <td>168248</td>\n",
       "      <td>5.0</td>\n",
       "    </tr>\n",
       "    <tr>\n",
       "      <td>100833</td>\n",
       "      <td>610</td>\n",
       "      <td>168250</td>\n",
       "      <td>5.0</td>\n",
       "    </tr>\n",
       "    <tr>\n",
       "      <td>100834</td>\n",
       "      <td>610</td>\n",
       "      <td>168252</td>\n",
       "      <td>5.0</td>\n",
       "    </tr>\n",
       "    <tr>\n",
       "      <td>100835</td>\n",
       "      <td>610</td>\n",
       "      <td>170875</td>\n",
       "      <td>3.0</td>\n",
       "    </tr>\n",
       "  </tbody>\n",
       "</table>\n",
       "<p>100836 rows × 3 columns</p>\n",
       "</div>"
      ],
      "text/plain": [
       "        userId  movieId  rating\n",
       "0            1        1     4.0\n",
       "1            1        3     4.0\n",
       "2            1        6     4.0\n",
       "3            1       47     5.0\n",
       "4            1       50     5.0\n",
       "...        ...      ...     ...\n",
       "100831     610   166534     4.0\n",
       "100832     610   168248     5.0\n",
       "100833     610   168250     5.0\n",
       "100834     610   168252     5.0\n",
       "100835     610   170875     3.0\n",
       "\n",
       "[100836 rows x 3 columns]"
      ]
     },
     "execution_count": 70,
     "metadata": {},
     "output_type": "execute_result"
    }
   ],
   "source": [
    "ratings"
   ]
  },
  {
   "cell_type": "code",
   "execution_count": 71,
   "metadata": {},
   "outputs": [],
   "source": [
    "reader = Reader()\n",
    "data = Dataset.load_from_df(ratings, reader)"
   ]
  },
  {
   "cell_type": "code",
   "execution_count": 72,
   "metadata": {},
   "outputs": [
    {
     "name": "stdout",
     "output_type": "stream",
     "text": [
      "Number of users:  610 \n",
      "\n",
      "Number of items:  9724\n"
     ]
    }
   ],
   "source": [
    "dataset = data.build_full_trainset()\n",
    "print('Number of users: ', dataset.n_users, '\\n')\n",
    "print('Number of items: ', dataset.n_items)"
   ]
  },
  {
   "cell_type": "code",
   "execution_count": 73,
   "metadata": {},
   "outputs": [],
   "source": [
    "# train-test-split\n",
    "trainset, testset = train_test_split(data, test_size=.25)"
   ]
  },
  {
   "cell_type": "markdown",
   "metadata": {},
   "source": [
    "#### Baseline Model"
   ]
  },
  {
   "cell_type": "code",
   "execution_count": 74,
   "metadata": {
    "scrolled": false
   },
   "outputs": [
    {
     "name": "stdout",
     "output_type": "stream",
     "text": [
      "Estimating biases using als...\n",
      "RMSE: 0.8731\n",
      "MAE:  0.6723\n"
     ]
    }
   ],
   "source": [
    "algorithm = BaselineOnly()\n",
    "algorithm.fit(trainset)\n",
    "predictions = algorithm.test(testset)\n",
    "\n",
    "# check the accuracy using Root Mean Square Error\n",
    "bl_rmse = accuracy.rmse(predictions)\n",
    "bl_mae = accuracy.mae(predictions)"
   ]
  },
  {
   "cell_type": "markdown",
   "metadata": {},
   "source": [
    "This is our first model which are optimizing RMSE against."
   ]
  },
  {
   "cell_type": "markdown",
   "metadata": {},
   "source": [
    "#### KNN Basic"
   ]
  },
  {
   "cell_type": "code",
   "execution_count": 75,
   "metadata": {
    "scrolled": true
   },
   "outputs": [
    {
     "name": "stdout",
     "output_type": "stream",
     "text": [
      "Computing the msd similarity matrix...\n",
      "Done computing similarity matrix.\n",
      "RMSE: 0.9519\n",
      "MAE:  0.7297\n"
     ]
    }
   ],
   "source": [
    "algorithm = KNNBasic()\n",
    "algorithm.fit(trainset)\n",
    "predictions = algorithm.test(testset)\n",
    "# check the accuracy using Root Mean Square Error\n",
    "knnbasic_rmse = accuracy.rmse(predictions)\n",
    "knnbasic_mae = accuracy.mae(predictions)"
   ]
  },
  {
   "cell_type": "markdown",
   "metadata": {},
   "source": [
    "#### KNN Baseline"
   ]
  },
  {
   "cell_type": "code",
   "execution_count": 76,
   "metadata": {
    "scrolled": true
   },
   "outputs": [
    {
     "name": "stdout",
     "output_type": "stream",
     "text": [
      "Estimating biases using als...\n",
      "Computing the msd similarity matrix...\n",
      "Done computing similarity matrix.\n",
      "RMSE: 0.8787\n",
      "MAE:  0.6706\n"
     ]
    }
   ],
   "source": [
    "algorithm = KNNBaseline()\n",
    "algorithm.fit(trainset)\n",
    "predictions = algorithm.test(testset)\n",
    "# check the accuracy using Root Mean Square Error\n",
    "knnbaseline_rmse = accuracy.rmse(predictions)\n",
    "knnbaseline_mae = accuracy.mae(predictions)"
   ]
  },
  {
   "cell_type": "code",
   "execution_count": null,
   "metadata": {
    "collapsed": true
   },
   "outputs": [],
   "source": []
  },
  {
   "cell_type": "markdown",
   "metadata": {},
   "source": [
    "#### SVD GridSearchCV"
   ]
  },
  {
   "cell_type": "code",
   "execution_count": 77,
   "metadata": {},
   "outputs": [],
   "source": [
    "params = {'n_factors': [20, 50, 100, 130],\n",
    "         'reg_all': [0.02, 0.05, 0.1],\n",
    "          \"n_epochs\": [15, 20, 30]}\n",
    "g_s_svd = GridSearchCV(SVD ,param_grid=params, n_jobs=-1)\n",
    "g_s_svd.fit(data)"
   ]
  },
  {
   "cell_type": "code",
   "execution_count": 78,
   "metadata": {
    "scrolled": true
   },
   "outputs": [
    {
     "name": "stdout",
     "output_type": "stream",
     "text": [
      "{'rmse': 0.8623822816582731, 'mae': 0.6624862149510312}\n",
      "{'rmse': {'n_factors': 130, 'reg_all': 0.05, 'n_epochs': 30}, 'mae': {'n_factors': 130, 'reg_all': 0.05, 'n_epochs': 30}}\n"
     ]
    }
   ],
   "source": [
    "print(g_s_svd.best_score)\n",
    "print(g_s_svd.best_params)"
   ]
  },
  {
   "cell_type": "markdown",
   "metadata": {},
   "source": [
    "#### SVD"
   ]
  },
  {
   "cell_type": "code",
   "execution_count": 79,
   "metadata": {
    "scrolled": true
   },
   "outputs": [
    {
     "name": "stdout",
     "output_type": "stream",
     "text": [
      "RMSE: 0.8660\n",
      "MAE:  0.6639\n"
     ]
    }
   ],
   "source": [
    "algorithm = SVD(n_factors= 130, reg_all=0.05, n_epochs=30)\n",
    "algorithm.fit(trainset)\n",
    "predictions = algorithm.test(testset)\n",
    "# check the accuracy using Root Mean Square Error\n",
    "svd_rmse = accuracy.rmse(predictions)\n",
    "svd_mae = accuracy.mae(predictions)"
   ]
  },
  {
   "cell_type": "markdown",
   "metadata": {},
   "source": [
    "Why SVD and is this a good evaluation? \n",
    "Answer: ..."
   ]
  },
  {
   "cell_type": "markdown",
   "metadata": {},
   "source": [
    "#### KNN_Basic CV (Pearson)"
   ]
  },
  {
   "cell_type": "code",
   "execution_count": 81,
   "metadata": {},
   "outputs": [
    {
     "name": "stdout",
     "output_type": "stream",
     "text": [
      "RMSE:  0.972448378524936\n",
      "MAE:  0.7514787955737319\n"
     ]
    }
   ],
   "source": [
    "knn_basic_P = KNNBasic(sim_options={'name':'pearson', 'user_based':True})\n",
    "cv_knn_basic_P = cross_validate(knn_basic_P, data, n_jobs=-1)\n",
    "knn_basic_cv_p_rmse = np.mean(cv_knn_basic_P['test_rmse'])\n",
    "knn_basic_cv_p_mae = np.mean(cv_knn_basic_P['test_mae'])\n",
    "print('RMSE: ', knn_basic_cv_p_rmse)\n",
    "print('MAE: ', knn_basic_cv_p_mae)"
   ]
  },
  {
   "cell_type": "markdown",
   "metadata": {},
   "source": [
    "#### KNN_Basic CV (Cosine)"
   ]
  },
  {
   "cell_type": "code",
   "execution_count": 82,
   "metadata": {},
   "outputs": [
    {
     "name": "stdout",
     "output_type": "stream",
     "text": [
      "RMSE:  0.9725651656324367\n",
      "MAE:  0.7490744977367225\n"
     ]
    }
   ],
   "source": [
    "knn_basic_C = KNNBasic(sim_options={'name':'cosine', 'user_based':True})\n",
    "cv_knn_basic_C = cross_validate(knn_basic_C, data, n_jobs=-1)\n",
    "knn_basic_cv_c_rmse = np.mean(cv_knn_basic_C['test_rmse'])\n",
    "knn_basic_cv_c_mae = np.mean(cv_knn_basic_C['test_mae'])\n",
    "print('RMSE: ', knn_basic_cv_c_rmse)\n",
    "print('MAE: ', knn_basic_cv_c_mae)"
   ]
  },
  {
   "cell_type": "markdown",
   "metadata": {},
   "source": [
    "#### KNN_Baseline CV (Pearson)"
   ]
  },
  {
   "cell_type": "code",
   "execution_count": 83,
   "metadata": {},
   "outputs": [
    {
     "name": "stdout",
     "output_type": "stream",
     "text": [
      "Estimating biases using als...\n",
      "Computing the pearson similarity matrix...\n",
      "Done computing similarity matrix.\n",
      "Estimating biases using als...\n",
      "Computing the pearson similarity matrix...\n",
      "Done computing similarity matrix.\n",
      "Estimating biases using als...\n",
      "Computing the pearson similarity matrix...\n",
      "Done computing similarity matrix.\n",
      "Estimating biases using als...\n",
      "Computing the pearson similarity matrix...\n",
      "Done computing similarity matrix.\n",
      "Estimating biases using als...\n",
      "Computing the pearson similarity matrix...\n",
      "Done computing similarity matrix.\n",
      "RMSE:  0.8761627542484451\n",
      "MAE:  0.6689049739777246\n"
     ]
    }
   ],
   "source": [
    "knn_baseline_P = KNNBaseline(sim_options={'name':'pearson', 'user_based':True})\n",
    "cv_knn_baseline_P = cross_validate(knn_baseline_P,data)\n",
    "knn_baseline_cv_p_rmse = np.mean(cv_knn_baseline_P['test_rmse'])\n",
    "knn_baseline_cv_p_mae = np.mean(cv_knn_baseline_P['test_mae'])\n",
    "print('RMSE: ', knn_baseline_cv_p_rmse)\n",
    "print('MAE: ', knn_baseline_cv_p_mae)"
   ]
  },
  {
   "cell_type": "markdown",
   "metadata": {},
   "source": [
    "#### KNN_Baseline CV (Cosine)"
   ]
  },
  {
   "cell_type": "code",
   "execution_count": 85,
   "metadata": {},
   "outputs": [
    {
     "name": "stdout",
     "output_type": "stream",
     "text": [
      "Estimating biases using als...\n",
      "Computing the pearson similarity matrix...\n",
      "Done computing similarity matrix.\n",
      "Estimating biases using als...\n",
      "Computing the pearson similarity matrix...\n",
      "Done computing similarity matrix.\n",
      "Estimating biases using als...\n",
      "Computing the pearson similarity matrix...\n",
      "Done computing similarity matrix.\n",
      "Estimating biases using als...\n",
      "Computing the pearson similarity matrix...\n",
      "Done computing similarity matrix.\n",
      "Estimating biases using als...\n",
      "Computing the pearson similarity matrix...\n",
      "Done computing similarity matrix.\n",
      "RMSE:  0.8788315378890236\n",
      "MAE:  0.6711912914853281\n"
     ]
    }
   ],
   "source": [
    "knn_baseline_C = KNNBaseline(sim_options={'name':'pearson', 'user_based':True})\n",
    "cv_knn_baseline_C = cross_validate(knn_baseline_C,data)\n",
    "knn_baseline_cv_c_rmse = np.mean(cv_knn_baseline_C['test_rmse'])\n",
    "knn_baseline_cv_c_mae = np.mean(cv_knn_baseline_C['test_mae'])\n",
    "print('RMSE: ', knn_baseline_cv_c_rmse)\n",
    "print('MAE: ', knn_baseline_cv_c_mae)"
   ]
  },
  {
   "cell_type": "markdown",
   "metadata": {},
   "source": [
    "### Final Table"
   ]
  },
  {
   "cell_type": "code",
   "execution_count": 86,
   "metadata": {},
   "outputs": [
    {
     "data": {
      "text/plain": [
       "{'KNN_Baseline': (0.8786947738345329, 0.6705890407706568),\n",
       " 'KNN_Baseline_CV_P': (0.8761627542484451, 0.6689049739777246),\n",
       " 'KNN_Baseline_CV_C': (0.8788315378890236, 0.6711912914853281),\n",
       " 'KNN_Basic': (0.951934395932374, 0.7297462801600653),\n",
       " 'KNN_Basic_CV_P': (0.972448378524936, 0.7514787955737319),\n",
       " 'KNN_Basic_CV_C': (0.9725651656324367, 0.7490744977367225),\n",
       " 'Baseline': (0.8731223731390085, 0.6723286262452086),\n",
       " 'SVD': (0.865976086667654, 0.6639160771076561)}"
      ]
     },
     "execution_count": 86,
     "metadata": {},
     "output_type": "execute_result"
    }
   ],
   "source": [
    "scores = {}\n",
    "scores['KNN_Baseline'] = knnbaseline_rmse, knnbaseline_mae\n",
    "scores['KNN_Baseline_CV_P'] = knn_baseline_cv_p_rmse, knn_baseline_cv_p_mae\n",
    "scores['KNN_Baseline_CV_C'] = knn_baseline_cv_c_rmse, knn_baseline_cv_c_mae\n",
    "scores['KNN_Basic'] = knnbasic_rmse, knnbasic_mae\n",
    "scores['KNN_Basic_CV_P'] = knn_basic_cv_p_rmse, knn_basic_cv_p_mae\n",
    "scores['KNN_Basic_CV_C'] = knn_basic_cv_c_rmse, knn_basic_cv_c_mae\n",
    "scores['Baseline'] = bl_rmse, bl_mae\n",
    "scores['SVD'] = svd_rmse, svd_mae\n",
    "scores"
   ]
  },
  {
   "cell_type": "code",
   "execution_count": 87,
   "metadata": {},
   "outputs": [
    {
     "data": {
      "text/html": [
       "<div>\n",
       "<style scoped>\n",
       "    .dataframe tbody tr th:only-of-type {\n",
       "        vertical-align: middle;\n",
       "    }\n",
       "\n",
       "    .dataframe tbody tr th {\n",
       "        vertical-align: top;\n",
       "    }\n",
       "\n",
       "    .dataframe thead th {\n",
       "        text-align: right;\n",
       "    }\n",
       "</style>\n",
       "<table border=\"1\" class=\"dataframe\">\n",
       "  <thead>\n",
       "    <tr style=\"text-align: right;\">\n",
       "      <th></th>\n",
       "      <th>RMSE</th>\n",
       "      <th>MAE</th>\n",
       "    </tr>\n",
       "    <tr>\n",
       "      <th>Models</th>\n",
       "      <th></th>\n",
       "      <th></th>\n",
       "    </tr>\n",
       "  </thead>\n",
       "  <tbody>\n",
       "    <tr>\n",
       "      <td>SVD</td>\n",
       "      <td>0.865976</td>\n",
       "      <td>0.663916</td>\n",
       "    </tr>\n",
       "    <tr>\n",
       "      <td>Baseline</td>\n",
       "      <td>0.873122</td>\n",
       "      <td>0.672329</td>\n",
       "    </tr>\n",
       "    <tr>\n",
       "      <td>KNN_Baseline_CV_P</td>\n",
       "      <td>0.876163</td>\n",
       "      <td>0.668905</td>\n",
       "    </tr>\n",
       "    <tr>\n",
       "      <td>KNN_Baseline</td>\n",
       "      <td>0.878695</td>\n",
       "      <td>0.670589</td>\n",
       "    </tr>\n",
       "    <tr>\n",
       "      <td>KNN_Baseline_CV_C</td>\n",
       "      <td>0.878832</td>\n",
       "      <td>0.671191</td>\n",
       "    </tr>\n",
       "    <tr>\n",
       "      <td>KNN_Basic</td>\n",
       "      <td>0.951934</td>\n",
       "      <td>0.729746</td>\n",
       "    </tr>\n",
       "    <tr>\n",
       "      <td>KNN_Basic_CV_P</td>\n",
       "      <td>0.972448</td>\n",
       "      <td>0.751479</td>\n",
       "    </tr>\n",
       "    <tr>\n",
       "      <td>KNN_Basic_CV_C</td>\n",
       "      <td>0.972565</td>\n",
       "      <td>0.749074</td>\n",
       "    </tr>\n",
       "  </tbody>\n",
       "</table>\n",
       "</div>"
      ],
      "text/plain": [
       "                       RMSE       MAE\n",
       "Models                               \n",
       "SVD                0.865976  0.663916\n",
       "Baseline           0.873122  0.672329\n",
       "KNN_Baseline_CV_P  0.876163  0.668905\n",
       "KNN_Baseline       0.878695  0.670589\n",
       "KNN_Baseline_CV_C  0.878832  0.671191\n",
       "KNN_Basic          0.951934  0.729746\n",
       "KNN_Basic_CV_P     0.972448  0.751479\n",
       "KNN_Basic_CV_C     0.972565  0.749074"
      ]
     },
     "execution_count": 87,
     "metadata": {},
     "output_type": "execute_result"
    }
   ],
   "source": [
    "s = pd.DataFrame.from_dict(scores, orient='index',columns = ['RMSE', 'MAE'])\n",
    "s.index.name = 'Models'\n",
    "s.sort_values(by = 'RMSE')"
   ]
  },
  {
   "cell_type": "markdown",
   "metadata": {},
   "source": [
    "As seen above, best model according to the RMSE, was SVD and the second best was the baseline."
   ]
  },
  {
   "cell_type": "markdown",
   "metadata": {},
   "source": [
    "## Build Recommendation System"
   ]
  },
  {
   "cell_type": "code",
   "execution_count": 88,
   "metadata": {},
   "outputs": [
    {
     "data": {
      "text/plain": [
       "<surprise.prediction_algorithms.matrix_factorization.SVD at 0x7feb17b04e10>"
      ]
     },
     "execution_count": 88,
     "metadata": {},
     "output_type": "execute_result"
    }
   ],
   "source": [
    "svd = SVD(n_factors= 130, reg_all=0.05, n_epochs=30)\n",
    "svd.fit(dataset)"
   ]
  },
  {
   "cell_type": "code",
   "execution_count": 89,
   "metadata": {},
   "outputs": [
    {
     "data": {
      "text/plain": [
       "Prediction(uid=2, iid=4, r_ui=None, est=3.039633264574277, details={'was_impossible': False})"
      ]
     },
     "execution_count": 89,
     "metadata": {},
     "output_type": "execute_result"
    }
   ],
   "source": [
    "svd.predict(2, 4)"
   ]
  },
  {
   "cell_type": "markdown",
   "metadata": {},
   "source": [
    "### Rec's for a new user"
   ]
  },
  {
   "cell_type": "code",
   "execution_count": 90,
   "metadata": {},
   "outputs": [],
   "source": [
    "user_rating = [{'userId': 700, 'movieId': 1, 'rating': '4'},\n",
    " {'userId': 700, 'movieId': 107, 'rating': '5'},\n",
    " {'userId': 700, 'movieId': 231, 'rating': '5'},\n",
    " {'userId': 700, 'movieId': 2986, 'rating': '3.5'}]"
   ]
  },
  {
   "cell_type": "markdown",
   "metadata": {},
   "source": [
    "### Making Predictions with New Rating"
   ]
  },
  {
   "cell_type": "code",
   "execution_count": 92,
   "metadata": {},
   "outputs": [],
   "source": [
    "## add the new ratings to the original ratings DataFrame\n",
    "new_ratings_df = ratings.append(user_rating,ignore_index=True)\n",
    "new_data = Dataset.load_from_df(new_ratings_df,reader)"
   ]
  },
  {
   "cell_type": "code",
   "execution_count": 93,
   "metadata": {},
   "outputs": [
    {
     "data": {
      "text/plain": [
       "<surprise.prediction_algorithms.matrix_factorization.SVD at 0x7feafeb42710>"
      ]
     },
     "execution_count": 93,
     "metadata": {},
     "output_type": "execute_result"
    }
   ],
   "source": [
    "# train a model using the new combined DataFrame\n",
    "svd_ = SVD(n_factors= 130, reg_all=0.05, n_epochs=30)\n",
    "svd_.fit(new_data.build_full_trainset())"
   ]
  },
  {
   "cell_type": "code",
   "execution_count": 95,
   "metadata": {},
   "outputs": [],
   "source": [
    "# make predictions for the user\n",
    "# you'll probably want to create a list of tuples in the format (movie_id, predicted_score)\n",
    "list_of_movies = []\n",
    "for m_id in ratings['movieId'].unique():\n",
    "    list_of_movies.append( (m_id,svd_.predict(700,m_id)[3]))"
   ]
  },
  {
   "cell_type": "code",
   "execution_count": 96,
   "metadata": {},
   "outputs": [],
   "source": [
    "# order the predictions from highest to lowest rated\n",
    "ranked_movies = sorted(list_of_movies, key=lambda x:x[1], reverse=True)"
   ]
  },
  {
   "cell_type": "markdown",
   "metadata": {},
   "source": [
    "**Empirical Evaluation: Test on JP**\n",
    "\n",
    "We felt it useful to include another evaluation metric and chose to do an empirical evaluation by testing on JP. He was appended as a record in the ratings table and submitted ratings for 4 movies. In reference to the recommendations given, he had seen 3/5 movies and enjoyed them and hadnt seen the other two."
   ]
  },
  {
   "cell_type": "code",
   "execution_count": 98,
   "metadata": {
    "scrolled": true
   },
   "outputs": [
    {
     "name": "stdout",
     "output_type": "stream",
     "text": [
      "Recommendation #  1 :  841    Streetcar Named Desire, A (1951)\n",
      "Name: title, dtype: object \n",
      "\n",
      "Recommendation #  2 :  4025    Grave of the Fireflies (Hotaru no haka) (1988)\n",
      "Name: title, dtype: object \n",
      "\n",
      "Recommendation #  3 :  9618    Three Billboards Outside Ebbing, Missouri (2017)\n",
      "Name: title, dtype: object \n",
      "\n",
      "Recommendation #  4 :  4803    Fog of War: Eleven Lessons from the Life of Ro...\n",
      "Name: title, dtype: object \n",
      "\n",
      "Recommendation #  5 :  982    High Noon (1952)\n",
      "Name: title, dtype: object \n",
      "\n"
     ]
    }
   ],
   "source": [
    "# return the top n recommendations using the \n",
    "def recommended_movies(user_ratings,movie_title_df,n):\n",
    "        for idx, rec in enumerate(user_ratings):\n",
    "            title = movie_title_df.loc[movie_title_df['movieId'] == int(rec[0])]['title']\n",
    "            print('Recommendation # ', idx+1, ': ', title, '\\n')\n",
    "            n-= 1\n",
    "            if n == 0:\n",
    "                break\n",
    "            \n",
    "recommended_movies(ranked_movies,movies,5)"
   ]
  },
  {
   "cell_type": "markdown",
   "metadata": {},
   "source": [
    "We felt it useful to include another evaluation metric and chose to do an empirical evaluation by testing on JP. He was appended as a record in the ratings table and submitted ratings for 4 movies. In reference to the recommendations given, he had seen 3/5 movies and enjoyed them and hadnt seen the other two."
   ]
  },
  {
   "cell_type": "markdown",
   "metadata": {},
   "source": [
    "## Conclusions & Business Case.\n",
    "\n",
    "Based on the low RMSE score, and the high success rate from the empirical evaluation, we can say with high confidence that our preliminary model works well. Given an RMSE score of .86 we know that we can say that individual users with benefit from this personalized recommendation system. All the user needs to do is fill in ratings for a few movies from this data set and it will accurately return 5 movie recommendations.\n",
    "\n",
    "We can market this technology to online streaming services who would benefit greatly from this low RMSE and high empirical evaluation."
   ]
  },
  {
   "cell_type": "markdown",
   "metadata": {},
   "source": [
    "## Future Steps\n",
    "In the future we will build onto this project and add better recommendations. One way we plan on doing this is only recommending movies based on certain genres if thats what the user wants to see. Another feature that we would like to add is a non-personalized recommendation system. We will list the top movies from years that the user chooses and only show the movies which they have not yet seen.\n",
    "\n",
    "\n",
    "\n",
    "\n",
    "\n"
   ]
  },
  {
   "cell_type": "code",
   "execution_count": null,
   "metadata": {
    "collapsed": true
   },
   "outputs": [],
   "source": []
  }
 ],
 "metadata": {
  "kernelspec": {
   "display_name": "Python 3",
   "language": "python",
   "name": "python3"
  },
  "language_info": {
   "codemirror_mode": {
    "name": "ipython",
    "version": 3
   },
   "file_extension": ".py",
   "mimetype": "text/x-python",
   "name": "python",
   "nbconvert_exporter": "python",
   "pygments_lexer": "ipython3",
   "version": "3.7.4"
  }
 },
 "nbformat": 4,
 "nbformat_minor": 4
}
